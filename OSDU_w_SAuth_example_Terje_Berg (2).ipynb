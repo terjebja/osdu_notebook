{
 "cells": [
  {
   "cell_type": "markdown",
   "metadata": {},
   "source": [
    "## External application interaction with OSDU SaaS \n",
    "This notebook has been created to show how to\n",
    "### 1. get a token as an external service / app to interact with service endpoints (APIs) hosted by Schlumberger  \n",
    "Secrets management is a part of the DELFI control plane and this demo will show how to generate an SAuth (Schlumberger authorization) token.  More information on DELFI Authenticator service here: https://developer.delfi.slb.com/learning-center/api-guides/api-consumption/authenticationservice\n",
    "### 2. call the OSDU search API \n",
    "using the OSDU schema for well logs to get the list of all well logs in the data partition\n",
    "OSDU documentation here: https://community.opengroup.org/osdu/platform/system/search-service/-/blob/master/docs/api/search_openapi.yaml\n",
    "### 3. call the OSDU Wellbore DMS APIs \n",
    "OSDU documentation here: https://community.opengroup.org/osdu/platform/domain-data-mgmt-services/wellbore/wellbore-domain-services/-/blob/master/docs/api/openapi.json\n",
    "More documentation on Wellbore DMS including video: https://community.opengroup.org/osdu/documentation/-/tree/master/platform/api/Wellbore-DDMS/media\n"
   ]
  },
  {
   "cell_type": "markdown",
   "metadata": {},
   "source": [
    "### Install necessary packages"
   ]
  },
  {
   "cell_type": "markdown",
   "metadata": {},
   "source": [
    "pip install pandas\n",
    "\n",
    "pip install requests\n",
    "\n",
    "pip install io\n",
    "\n",
    "pip install pyarrow\n",
    "\n",
    "pip install fastparquet"
   ]
  },
  {
   "cell_type": "code",
   "execution_count": null,
   "metadata": {},
   "outputs": [],
   "source": [
    "import asyncio\n",
    "import requests\n",
    "import json\n",
    "import time\n",
    "import base64\n",
    "import pandas as pd\n",
    "from mpl_toolkits import mplot3d\n",
    "import matplotlib.pyplot as plt\n",
    "from pandas import json_normalize\n",
    "import io\n",
    "\n",
    "\n"
   ]
  },
  {
   "cell_type": "code",
   "execution_count": null,
   "metadata": {},
   "outputs": [],
   "source": [
    "import nest_asyncio\n",
    "nest_asyncio.apply()"
   ]
  },
  {
   "cell_type": "markdown",
   "metadata": {},
   "source": [
    "## 1. Generate an SAuth token\n",
    "An SAuth token is necessary to call any APIs that are hosted by Schlumberger.  The Authenticator service is hosted by DELFI and is based on the OAuth and OIDC protocols.  The setup the audience claim is done through the Developer Portal where all the API products are listed.  More on this here: https://developer.delfi.slb.com/learning-center/api-guides/api-consumption/api-consumption-guide\n",
    "\n",
    "### Note: this needs to be replaced if using another Authenticator service "
   ]
  },
  {
   "cell_type": "code",
   "execution_count": null,
   "metadata": {},
   "outputs": [],
   "source": [
    "# read secrets from uploaded config file\n",
    "\n",
    "from configparser import ConfigParser\n",
    "\n",
    "parser = ConfigParser()\n",
    "_ = parser.read('osdu_saas_notebook.cfg')\n",
    "\n",
    "secret_core_client_id = parser.get('OSDU', 'osdu_core_client')\n",
    "secret_client_id = parser.get('OSDU', 'client_id')\n",
    "secret_client_secret = parser.get('OSDU', 'client_secret')\n",
    "\n",
    "# Get base url and data partition\n",
    "\n",
    "base_url = parser.get('OSDU', 'base_url')\n",
    "data_partition_id = parser.get('OSDU', 'data_partition')"
   ]
  },
  {
   "cell_type": "code",
   "execution_count": null,
   "metadata": {},
   "outputs": [],
   "source": [
    "# code from cguipet\n",
    "\n",
    "class SAuthAppAuthV2():\n",
    "    \"\"\" Provide SAuth V2 application authentication \"\"\"\n",
    "    _token: str\n",
    "    _token_expires: int\n",
    "\n",
    "    def __init__(self, session: requests.Session, client_id: str, client_secret: str, token_service_url: str, scope: str = None):\n",
    "        \"\"\"\n",
    "        :param session: requests.Session used for fetching token from SAuth token serivce\n",
    "        :param client_id: client Id generated from dev portal / myapps\n",
    "        :param client_secret: client secret generated from dev portal / myapps\n",
    "        :param scope: If provided, must be a space-delimited list of client_ids of other clients this client wishes to access with the access_token received from this grant. The \"aud\" claim in the access_token will contain these client_ids for validation.\n",
    "        :param token_service_url:\n",
    "        \"\"\"\n",
    "        if client_id is None:\n",
    "            raise ValueError('None is not allowed as client_id')\n",
    "        if client_secret is None:\n",
    "            raise ValueError('None is not allowed as client_secret')\n",
    "        if token_service_url is None:\n",
    "            raise ValueError('None is not allowed as token_service_url')\n",
    "\n",
    "        self._session = session\n",
    "        self._token_service_url = token_service_url\n",
    "        self._client_id = client_id\n",
    "        self._client_secret = client_secret\n",
    "        self._scope = scope\n",
    "        self._get_token()\n",
    "\n",
    "    def header_value(self):\n",
    "        return \"Bearer \" + self.token\n",
    "\n",
    "    @property\n",
    "    def token(self):\n",
    "        if time.time() > self._token_expires:\n",
    "            self._get_token()\n",
    "\n",
    "        return self._token\n",
    "\n",
    "    def update_headers(self, headers):\n",
    "        if headers is None:\n",
    "            headers = {}\n",
    "        headers[\"Authorization\"] = self.header_value()\n",
    "        return headers\n",
    "\n",
    "    def __call__(self, request):\n",
    "        return self.update_headers(request.headers)\n",
    "\n",
    "    def __str__(self):\n",
    "        return \"Authorization: \" + self.header_value()\n",
    "\n",
    "    def _get_token(self):\n",
    "        url = self._token_service_url\n",
    "        # compute authorization\n",
    "        authorization = str(base64.b64encode(f\"{self._client_id}:{self._client_secret}\".encode(\"ascii\")), \"utf-8\")\n",
    "        headers = {\n",
    "            'Content-Type': 'application/x-www-form-urlencoded',\n",
    "            'Authorization': f'Basic {authorization}'\n",
    "        }\n",
    "        payload = None\n",
    "        if self._scope:\n",
    "            payload = dict(grant_type='client_credentials', scope=self._scope)\n",
    "        else:\n",
    "            payload = dict(grant_type='client_credentials')\n",
    "\n",
    "        response = self._session.post(url, headers=headers, data=payload)\n",
    "        response_dict = json.loads(response.text)\n",
    "\n",
    "        self._token = response_dict['access_token']\n",
    "        self._token_expires = time.time() + response_dict['expires_in'] - 60\n",
    "        \n",
    "\n",
    "class ServiceAuth:\n",
    "    async def create_sauth_session_for_DELFI_OSDU(self, token_service_url, client_id, client_secret):\n",
    "        # see full list here: https://developer.delfi.slb.com/learning-center/api-guides/api-consumption/application-client-ids\n",
    "        osdu_core_client = secret_core_client_id\n",
    "        de_core_client = \"de-sauth-v2-scope-service-datalake.slbservice.com\"\n",
    "        audience = '{} {}'.format(osdu_core_client, de_core_client)\n",
    "\n",
    "        auth = SAuthAppAuthV2(\n",
    "            session=requests.Session(),\n",
    "            client_id=client_id,\n",
    "            client_secret=client_secret,\n",
    "            token_service_url=token_service_url,\n",
    "            scope=audience)\n",
    "\n",
    "        return auth\n",
    "    \n",
    "\n",
    "\n",
    "async def get_service_token():\n",
    "    #this is for DELFI services, https://developer.delfi.slb.com/learning-center/api-guides/api-consumption/api-consumption-guide\n",
    "    sauth_token_service_url = r'https://csi.slb.com/v2/token'\n",
    "    #generated from Developer Portal My Apps section, created for external web app  \n",
    "    client_id = secret_client_id  # DEV team in myApps osduInnovationProject795062      \n",
    "################################################################################################\n",
    "# THIS SHOULD BE STORED IN A SAFE PLACE   \n",
    "    client_secret = secret_client_secret\n",
    "################################################################################################    \n",
    "    svc_auth = ServiceAuth()\n",
    "    return await svc_auth.create_sauth_session_for_DELFI_OSDU(sauth_token_service_url, client_id, client_secret)\n",
    "\n",
    "if __name__ == '__main__':\n",
    "    loop = asyncio.get_event_loop()\n",
    "    token = loop.run_until_complete(get_service_token())\n",
    "    print(token)\n",
    "    \n",
    "  "
   ]
  },
  {
   "cell_type": "markdown",
   "metadata": {},
   "source": [
    "# 2. Call the OSDU search API "
   ]
  },
  {
   "cell_type": "markdown",
   "metadata": {},
   "source": [
    "## Set the data partition and base URL defined in Schlumberger OSDU SaaS\n",
    "These can be replaced with other data partition IDs and base URL when deployed as for example PaaS.  Note that then section 1 above will also need to be replaced by another Authentication service that will manage the auth flow."
   ]
  },
  {
   "cell_type": "code",
   "execution_count": null,
   "metadata": {},
   "outputs": [],
   "source": [
    "#data_partition_id = 'neptune-innovation'\n",
    "#base_url = 'https://eu5.api.enterprisedata.slb.com/api/'"
   ]
  },
  {
   "cell_type": "markdown",
   "metadata": {},
   "source": [
    "# 2. Call the OSDU search API "
   ]
  },
  {
   "cell_type": "markdown",
   "metadata": {},
   "source": [
    "### append the right URLs from the base URL"
   ]
  },
  {
   "cell_type": "code",
   "execution_count": null,
   "metadata": {},
   "outputs": [],
   "source": [
    "search_service_url = base_url + 'search/v2/query'\n",
    "wellbore_dms_url = base_url + 'os-wellbore-ddms/ddms/v3/'\n"
   ]
  },
  {
   "cell_type": "markdown",
   "metadata": {},
   "source": [
    "### define the right schemas to search for (defined by OSDU)"
   ]
  },
  {
   "cell_type": "code",
   "execution_count": null,
   "metadata": {},
   "outputs": [],
   "source": [
    "#wellbore_kind = 'master-data--Wellbore'\n",
    "#search_kind = '*:*:*:*'\n",
    "\n",
    "#logs, pore pressure and mud logs\n",
    "search_kind = 'osdu:wks:work-product-component--WellLog:*'\n",
    "\n",
    "#trajectories\n",
    "#search_kind = '*:*:work-product-component--WellboreTrajectory:*'\n",
    "\n",
    "#polygons XYZ (drilling targets)\n",
    "#search_kind = '*:*:work-product-component--PolylineSet:*'\n",
    "\n",
    "#Wells\n",
    "#search_kind= 'osdu:wks:master-data--Well:1.0.0'\n",
    "\n",
    "\n"
   ]
  },
  {
   "cell_type": "markdown",
   "metadata": {},
   "source": [
    "### create the https header using the token generated in 1 above"
   ]
  },
  {
   "cell_type": "code",
   "execution_count": null,
   "metadata": {},
   "outputs": [],
   "source": [
    "accessToken=token._token\n",
    "\n",
    "headers = {\n",
    "    'data-partition-id': data_partition_id,\n",
    "    \"authorization\": f\"Bearer {accessToken}\",\n",
    "    \"Content-Type\": \"application/json\",\n",
    "}\n",
    "\n",
    "# create the payload\n",
    "\n",
    "search_payload = {\n",
    "    'kind': search_kind,\n",
    "    'limit': \"200\"\n",
    "}\n",
    "\n",
    "\n",
    "\n",
    "search_response = requests.post(search_service_url, headers=headers, json=search_payload)\n",
    "\n",
    "print(search_response.status_code)"
   ]
  },
  {
   "cell_type": "code",
   "execution_count": null,
   "metadata": {},
   "outputs": [],
   "source": []
  },
  {
   "cell_type": "markdown",
   "metadata": {},
   "source": [
    "## Display search results"
   ]
  },
  {
   "cell_type": "code",
   "execution_count": null,
   "metadata": {
    "tags": []
   },
   "outputs": [],
   "source": [
    "#raw_data = json.loads(search_response.content) # raw bytes format\n",
    "json_data = search_response.json() # json format\n",
    "\n",
    "\n",
    "#json_data\n",
    "\n",
    "#convert to Pandas dataframe\n",
    "search_df = json_normalize(json_data, 'results')\n",
    "#search_df = pd.read_json(json_data)\n",
    "#search_df.info()\n",
    "#print(search_df[:1])\n",
    "#print('number of rows ' + str(search_df['createTime'].count()))\n",
    "#print(search_df['createTime'].count())\n",
    "with pd.option_context('display.max_rows', 100, 'display.max_columns', None):  # more options can be specified also\n",
    "    display(search_df.transpose())"
   ]
  },
  {
   "cell_type": "code",
   "execution_count": null,
   "metadata": {},
   "outputs": [],
   "source": []
  },
  {
   "cell_type": "code",
   "execution_count": null,
   "metadata": {},
   "outputs": [],
   "source": []
  },
  {
   "cell_type": "code",
   "execution_count": null,
   "metadata": {},
   "outputs": [],
   "source": []
  },
  {
   "cell_type": "code",
   "execution_count": null,
   "metadata": {},
   "outputs": [],
   "source": [
    "wellboreIDs = search_df['data.WellboreID'].unique()"
   ]
  },
  {
   "cell_type": "code",
   "execution_count": null,
   "metadata": {},
   "outputs": [],
   "source": []
  },
  {
   "cell_type": "code",
   "execution_count": null,
   "metadata": {},
   "outputs": [],
   "source": [
    "# Call wellbore API and get the record\n",
    "ID = 11\n",
    "wellboreID = wellboreIDs[ID]\n",
    "\n",
    "wellbore_service_url = wellbore_dms_url + 'wellbores'\n",
    "\n",
    "wellbore_meta_url_appended = f'{wellbore_service_url}/{wellboreID}'\n",
    "print(wellbore_meta_url_appended)\n",
    "\n",
    "wellbore_meta = requests.get(wellbore_meta_url_appended, headers= headers)\n",
    "\n",
    "print(wellbore_meta.status_code)\n",
    "\n",
    "wellbore_json_data = wellbore_meta.json() # json format\n",
    "wellbore_json_data\n",
    "\n",
    "#convert to Pandas dataframe\n",
    "wellbore_meta_df = json_normalize(wellbore_json_data)\n",
    "\n",
    "# wellbore measurements\n",
    "json_normalize(wellbore_meta_df['data.VerticalMeasurements'][0])"
   ]
  },
  {
   "cell_type": "code",
   "execution_count": null,
   "metadata": {},
   "outputs": [],
   "source": [
    "wellbore_meta_df.transpose()"
   ]
  },
  {
   "cell_type": "markdown",
   "metadata": {},
   "source": [
    "# 3. Get the well log IDs from the OSDU schema"
   ]
  },
  {
   "cell_type": "code",
   "execution_count": null,
   "metadata": {},
   "outputs": [],
   "source": [
    "pd.set_option('display.max_colwidth', None) # turn off truncation as this is a pretty long string \n",
    "\n",
    "well_log_IDs = search_df[:].id\n",
    "\n",
    "pd.DataFrame([search_df['data.Name'], search_df['id'], search_df['version']]).transpose()"
   ]
  },
  {
   "cell_type": "markdown",
   "metadata": {},
   "source": [
    "### get the log values from the first item.  Note that the data is in Parquet format\n",
    "using the OSDU Wellbore DMS GET .../welllogs/{record_id}/data API. \n",
    "\n",
    "Documentation here: https://community.opengroup.org/osdu/platform/domain-data-mgmt-services/wellbore/wellbore-domain-services/-/blob/master/docs/20210518_Wellbore_DMS.pdf  \n",
    "\n",
    "API spec is here\n",
    "https://community.opengroup.org/osdu/platform/domain-data-mgmt-services/wellbore/wellbore-domain-services/-/blob/master/docs/api/openapi.json"
   ]
  },
  {
   "cell_type": "code",
   "execution_count": null,
   "metadata": {},
   "outputs": [],
   "source": [
    "# 2. get the log values\n",
    "ID = 9\n",
    "#9 PPFG\n",
    "#50 Zones\n",
    "well_logID = well_log_IDs[ID]\n",
    "\n",
    "well_log_service_url =  wellbore_dms_url + 'welllogs'\n",
    "well_log_url_appended = f'{well_log_service_url}/{well_logID}' + '/data?limit=1000&describe=false&orient=split'\n",
    "\n",
    "print(well_log_url_appended)\n",
    "# OSDU v3 API, note that this API returns in Parquet format\n",
    "# https://parquet.apache.org/\n",
    "\n",
    "well_log = requests.get(well_log_url_appended, headers= headers)\n",
    "\n",
    "print(well_log.status_code)\n",
    "\n",
    "#convert to Pandas dataframe\n",
    "\n",
    "well_log_bytes = io.BytesIO(well_log.content)\n",
    "\n",
    "df = pd.read_parquet(well_log_bytes)\n",
    "\n",
    "#with pd.option_context('display.max_rows', None, 'display.max_columns', None):  # more options can be specified also\n",
    "#    display(df)\n",
    "df"
   ]
  },
  {
   "cell_type": "code",
   "execution_count": null,
   "metadata": {},
   "outputs": [],
   "source": [
    "#df['Zones'] = df['Zones'].astype(\"category\")"
   ]
  },
  {
   "cell_type": "code",
   "execution_count": null,
   "metadata": {
    "tags": []
   },
   "outputs": [],
   "source": [
    "# Find the metadata for the well log\n",
    "\n",
    "log_meta = pd.json_normalize(search_df['data.Curves'][ID])\n",
    "log_meta"
   ]
  },
  {
   "cell_type": "code",
   "execution_count": null,
   "metadata": {},
   "outputs": [],
   "source": [
    "fig, ax = plt.subplots(1, figsize=(10, 10))\n",
    "\n",
    "x_label = log_meta['CurveUnit'][0]\n",
    "y_label = log_meta['CurveUnit'][2]\n",
    "\n",
    "ax.plot(df.iloc[:,2], -df['MD'], label='Fracture Gradient')\n",
    "ax.plot(df['Pore pressure gradient'],-df['MD'], label='Pore Pressure Gradient')\n",
    "ax.plot(df['Vertical stress gradient'],-df['MD'], label='Vertical stress gradient')\n",
    "\n",
    "\n",
    "ax.legend(fontsize=12)\n",
    "ax.set_ylabel('MD [m]', fontsize=12);\n",
    "ax.set_xlabel('g/cm3', fontsize=12);\n",
    "ax.set_title(\"Well Log\", fontsize=20);"
   ]
  },
  {
   "cell_type": "markdown",
   "metadata": {},
   "source": [
    "# 4. Get a well trajectory\n",
    "#### 1. the record with metadata\n",
    "#### 2. the bulk data"
   ]
  },
  {
   "cell_type": "code",
   "execution_count": null,
   "metadata": {},
   "outputs": [],
   "source": [
    "trajectory_service_url = wellbore_dms_url + 'wellboretrajectories'\n",
    "\n",
    "search_kind = '*:*:work-product-component--WellboreTrajectory:*'\n",
    "\n",
    "# create the payload\n",
    "\n",
    "search_payload = {\n",
    "    'kind': search_kind,\n",
    "    'limit': \"200\"\n",
    "}\n",
    "\n",
    "\n",
    "search_response = requests.post(search_service_url, headers=headers, json=search_payload)\n",
    "\n",
    "print(search_response.status_code)\n",
    "\n",
    "#raw_data = json.loads(search_response.content) # raw bytes format\n",
    "json_data = search_response.json() # json format\n",
    "\n",
    "\n",
    "#json_data\n",
    "pd.set_option('display.max_colwidth', None) # turn off truncation as this is a pretty long string \n",
    "\n",
    "#convert to Pandas dataframe\n",
    "search_df = json_normalize(json_data, 'results')\n",
    "#search_df = pd.read_json(json_data)\n",
    "#search_df.info()\n",
    "#print(search_df[:1])\n",
    "#print('number of rows ' + str(search_df['createTime'].count()))\n",
    "#print(search_df['createTime'].count())\n",
    "with pd.option_context('display.max_rows', None, 'display.max_columns', None):  # more options can be specified also\n",
    "    display(pd.DataFrame([search_df['data.Name'], search_df['modifyTime'], search_df['id']]).transpose())\n",
    "\n",
    "#trajectory_IDs = search_df[:].id\n",
    "\n"
   ]
  },
  {
   "cell_type": "code",
   "execution_count": null,
   "metadata": {},
   "outputs": [],
   "source": [
    "#neptune-innovation:master-data--Wellbore:50c33610-1b26-47a7-96be-f6aa1e267f26"
   ]
  },
  {
   "cell_type": "code",
   "execution_count": null,
   "metadata": {},
   "outputs": [],
   "source": [
    "with pd.option_context('display.max_rows', None, 'display.max_columns', None):  # more options can be specified also\n",
    "    display(search_df.iloc[0:1,:].transpose())"
   ]
  },
  {
   "cell_type": "code",
   "execution_count": null,
   "metadata": {},
   "outputs": [],
   "source": [
    "# Select which trajectory to fetch\n",
    "ID = 9\n",
    "\n",
    "\n",
    "trajectoryID = trajectory_IDs[ID]\n",
    "trajectory_name = search_df['data.Name'][ID]\n",
    "pd.DataFrame([search_df['data.Name'], search_df['data.VerticalMeasurement.VerticalMeasurement'], search_df['id']]).transpose()"
   ]
  },
  {
   "cell_type": "code",
   "execution_count": null,
   "metadata": {},
   "outputs": [],
   "source": [
    "# Call trajectory API and get the record\n",
    "\n",
    "trajectory_service_url = wellbore_dms_url + 'wellboretrajectories'\n",
    "\n",
    "trajectory_meta_url_appended = f'{trajectory_service_url}/{trajectoryID}'\n",
    "print(trajectory_meta_url_appended)\n",
    "\n",
    "trajectory_meta = requests.get(trajectory_meta_url_appended, headers= headers)\n",
    "\n",
    "print(trajectory_meta.status_code)\n",
    "\n",
    "trajectory_json_data = trajectory_meta.json() # json format\n",
    "trajectory_json_data\n",
    "\n",
    "#convert to Pandas dataframe\n",
    "trajectory_meta_df = json_normalize(trajectory_json_data)\n",
    "#trajectory_meta_df.transpose()\n",
    "\n"
   ]
  },
  {
   "cell_type": "code",
   "execution_count": null,
   "metadata": {},
   "outputs": [],
   "source": [
    "# Find the units of measurements for the trajectory table\n",
    "\n",
    "pd.json_normalize(trajectory_meta_df['data.AvailableTrajectoryStationProperties'][0])"
   ]
  },
  {
   "cell_type": "code",
   "execution_count": null,
   "metadata": {
    "scrolled": true
   },
   "outputs": [],
   "source": []
  },
  {
   "cell_type": "code",
   "execution_count": null,
   "metadata": {},
   "outputs": [],
   "source": []
  },
  {
   "cell_type": "code",
   "execution_count": null,
   "metadata": {},
   "outputs": [],
   "source": []
  },
  {
   "cell_type": "code",
   "execution_count": null,
   "metadata": {
    "tags": []
   },
   "outputs": [],
   "source": [
    "\n",
    "trajectory_url_appended = f'{trajectory_service_url}/{trajectoryID}' + '/data?limit=1000&describe=false&orient=split'\n",
    "print(trajectory_url_appended)\n",
    "\n",
    "# OSDU v3 API, note that this API returns in Parquet format\n",
    "# https://parquet.apache.org/\n",
    "\n",
    "trajectory = requests.get(trajectory_url_appended, headers= headers)\n",
    "\n",
    "print(trajectory.status_code)\n",
    "\n",
    "#convert to Pandas dataframe\n",
    "\n",
    "trajectory_bytes = io.BytesIO(trajectory.content)\n",
    "\n",
    "df = pd.read_parquet(trajectory_bytes)\n",
    "df"
   ]
  },
  {
   "cell_type": "code",
   "execution_count": null,
   "metadata": {},
   "outputs": [],
   "source": [
    "print('Trajectory TD coordinates \\n X=',df.iloc[-1,9],'   Y=',df.iloc[-1,10],'    TVDSS=',df.iloc[-1,8])"
   ]
  },
  {
   "cell_type": "code",
   "execution_count": null,
   "metadata": {},
   "outputs": [],
   "source": [
    "import numpy as np\n",
    "targets_OP3 = pd.DataFrame(np.array([\n",
    "    [389836, 7102757, 3316],\n",
    "    [390419.7, 7102632.4, 3356],\n",
    "    [390865, 7102567, 3430],\n",
    "    [391576, 7102858, 3440]]), columns=['X','Y','TVDSS'])\n",
    "\n",
    "targets_OP2 = pd.DataFrame(np.array([\n",
    "    [390749, 7101685, 3371],\n",
    "    [390459, 7101721, 3416],\n",
    "    [389591, 7102115, 3419],]), columns=['X','Y','TVDSS'])\n",
    "\n",
    "targets = targets_OP3"
   ]
  },
  {
   "cell_type": "code",
   "execution_count": null,
   "metadata": {
    "tags": []
   },
   "outputs": [],
   "source": [
    "from mpl_toolkits import mplot3d\n",
    "import matplotlib.pyplot as plt\n",
    "\n",
    "plt.rcParams['figure.figsize'] = [12, 8]\n",
    "plt.rcParams['figure.dpi'] = 100 # 200 e.g. is really fine, but slower\n",
    "\n",
    "X = df.iloc[:,9]\n",
    "Y = df.iloc[:,10]\n",
    "Z = df.iloc[:,8]\n",
    "\n",
    "fig = plt.figure()\n",
    "ax = plt.axes(projection='3d')\n",
    "\n",
    "ax.scatter3D(X, Y, -Z, c=-Z, cmap='copper', label=str(trajectory_name));\n",
    "ax.set_title('Well Trajectory: %s' %trajectory_name, x=0.5, y=0.9)\n",
    "ax.set_xlabel('X [m]')\n",
    "ax.set_ylabel('Y [m]')\n",
    "ax.set_zlabel('TVDSS [m]');\n",
    "\n",
    "ax.scatter3D(targets.iloc[:,0], targets.iloc[:,1], -targets.iloc[:,2], marker='o', s=200, label='targets');\n",
    "ax.legend(loc='upper right', frameon=False)\n",
    "\n",
    "ax.view_init(10, 45)"
   ]
  },
  {
   "cell_type": "markdown",
   "metadata": {},
   "source": [
    "# 5. Get drilling targets"
   ]
  },
  {
   "cell_type": "code",
   "execution_count": null,
   "metadata": {},
   "outputs": [],
   "source": [
    "### Get polylineSet record ID numbers\n",
    "\n",
    "# create the search payload to get record IDs\n",
    "search_kind = '*:*:work-product-component--PolylineSet:*'\n",
    "\n",
    "search_payload = {\n",
    "    'kind': search_kind,\n",
    "    'limit': \"200\"\n",
    "}\n",
    "\n",
    "search_response = requests.post(search_service_url, headers=headers, json=search_payload)\n",
    "\n",
    "print(search_response.status_code)\n",
    "\n",
    "#raw_data = json.loads(search_response.content) # raw bytes format\n",
    "json_data = search_response.json() # json format\n",
    "\n",
    "\n",
    "#json_data\n",
    "pd.set_option('display.max_colwidth', None) # turn off truncation as this is a pretty long string \n",
    "#convert to Pandas dataframe\n",
    "search_df = json_normalize(json_data, 'results')\n",
    "\n",
    "target_IDs = search_df[:].id\n",
    "\n",
    "pd.DataFrame([search_df['data.Name'], search_df['id'], search_df['modifyTime'], search_df['data.ExtensionProperties.SlbPetrelComponent.PetrelProjectName']]).transpose()\n"
   ]
  },
  {
   "cell_type": "code",
   "execution_count": null,
   "metadata": {},
   "outputs": [],
   "source": []
  },
  {
   "cell_type": "code",
   "execution_count": null,
   "metadata": {},
   "outputs": [],
   "source": [
    "# Select a target ID\n",
    "\n",
    "ID = 102\n",
    "\n",
    "targetID = target_IDs[ID]\n",
    "targetID_name = search_df['data.Name'][ID]\n",
    "\n",
    "## Get record from API\n",
    "\n",
    "storage_url = base_url + 'storage/v2/'\n",
    "\n",
    "target_service_url = storage_url + 'records'\n",
    "\n",
    "target_meta_url_appended = f'{target_service_url}/{targetID}'\n",
    "print(target_meta_url_appended)\n",
    "\n",
    "target_meta = requests.get(target_meta_url_appended, headers= headers)\n",
    "\n",
    "print(target_meta.status_code)\n",
    "\n",
    "target_json_data = target_meta.json() # json format\n",
    "target_json_data\n",
    "\n",
    "#convert to Pandas dataframe\n",
    "target_meta_df = json_normalize(target_json_data)\n",
    "#target_meta_df.transpose()\n"
   ]
  },
  {
   "cell_type": "code",
   "execution_count": null,
   "metadata": {},
   "outputs": [],
   "source": [
    "## Get the associated FileSet\n",
    "\n",
    "\n",
    "storage_url = base_url + 'file/v2/'\n",
    "\n",
    "target_service_url = storage_url + 'files'\n",
    "\n",
    "file_ID = target_meta_df['data.DatasetID'][0]\n",
    "download_URL = 'downloadURL'\n",
    "\n",
    "target_meta_url_appended = f'{target_service_url}/{file_ID}/{download_URL}'\n",
    "\n",
    "print(target_meta_url_appended)\n",
    "\n",
    "target_meta = requests.get(target_meta_url_appended, headers= headers)\n",
    "\n",
    "print(target_meta.status_code)\n",
    "\n",
    "target_json_data2 = target_meta.json() # json format\n",
    "target_json_data2\n",
    "\n",
    "#convert to Pandas dataframe\n",
    "target_meta_df2 = json_normalize(target_json_data2)\n",
    "target_meta_df2.transpose()\n",
    "\n",
    "target_file_url = target_meta_df2.iloc[0,0]"
   ]
  },
  {
   "cell_type": "code",
   "execution_count": null,
   "metadata": {},
   "outputs": [],
   "source": [
    "# Download target file URL and read as json\n",
    "\n",
    "df_json = requests.get(target_file_url).json()\n",
    "\n",
    "# normalize json file into dataframe\n",
    "df = pd.json_normalize(df_json, \"features\")\n",
    "\n",
    "# manipulate the coordinates part of GeoJSON into tabular format\n",
    "target_list = str(df.iloc[0,2]).replace('[','')\n",
    "target_list = target_list.replace(']','')\n",
    "\n",
    "target_list = target_list.split(',')\n",
    "\n",
    "df_target = pd.DataFrame(columns=['X','Y','Z'])\n",
    "df_target['X']=target_list[0::3]\n",
    "df_target['Y']=target_list[1::3]\n",
    "df_target['Z']=target_list[2::3]\n",
    "\n",
    "df_target = df_target.astype(float)"
   ]
  },
  {
   "cell_type": "code",
   "execution_count": null,
   "metadata": {},
   "outputs": [],
   "source": [
    "# Download target as json file and store in folder\n",
    "\n",
    "import urllib\n",
    "\n",
    "urllib.request.urlretrieve(target_file_url, \"%s\" %targetID_name + \".json\")"
   ]
  },
  {
   "cell_type": "code",
   "execution_count": null,
   "metadata": {},
   "outputs": [],
   "source": [
    "# Plot target in 3d view\n",
    "\n",
    "X = df_target['X']\n",
    "Y = df_target['Y']\n",
    "Z = df_target['Z']\n",
    "\n",
    "fig = plt.figure()\n",
    "ax = plt.axes(projection='3d')\n",
    "\n",
    "ax.scatter3D(X, Y, Z, c=Z, cmap='copper');\n",
    "ax.set_title('Polygon: %s' %targetID_name)\n",
    "ax.set_xlabel('Latitude')\n",
    "ax.set_ylabel('Longitude')\n",
    "ax.set_zlabel('Z [m]');\n",
    "\n",
    "# Find geometric center of target\n",
    "x_c = df_target['X'].sum()/len(df_target)\n",
    "y_c = df_target['Y'].sum()/len(df_target)\n",
    "z_c = df_target['Z'].sum()/len(df_target)\n",
    "ax.scatter3D(x_c, y_c, z_c, marker='x');\n",
    "ax.text(x_c,y_c,z_c,  '%s' % (str('Centroid')), size=10, zorder=1,  \n",
    "    color='k')\n",
    "\n",
    "ax.view_init(15, -45)\n",
    "\n",
    "#df_target"
   ]
  },
  {
   "cell_type": "code",
   "execution_count": null,
   "metadata": {},
   "outputs": [],
   "source": [
    "## Test to search for wellbores using wellbore dms\n",
    "\n",
    "search_service_url = 'https://eu5.api.enterprisedata.slb.com/api/os-wellbore-ddms/ddms/query/wellbores'\n",
    "\n",
    "search_kind = '*:*:*:*'\n",
    "\n",
    "# create the payload\n",
    "\n",
    "search_payload = {\n",
    "    'kind': search_kind,\n",
    "    'limit': \"200\"\n",
    "}\n",
    "\n",
    "search_response = requests.post(search_service_url, headers=headers, json=search_payload)\n",
    "\n",
    "print(search_response.status_code)\n",
    "\n",
    "#raw_data = json.loads(search_response.content) # raw bytes format\n",
    "json_data = search_response.json() # json format\n",
    "\n",
    "\n",
    "#json_data\n",
    "pd.set_option('display.max_colwidth', None) # turn off truncation as this is a pretty long string \n",
    "\n",
    "#convert to Pandas dataframe\n",
    "search_df = json_normalize(json_data, 'results')\n",
    "#search_df = pd.read_json(json_data)\n",
    "#search_df.info()\n",
    "#print(search_df[:1])\n",
    "#print('number of rows ' + str(search_df['createTime'].count()))\n",
    "#print(search_df['createTime'].count())\n",
    "search_df\n",
    "\n",
    "#trajectory_IDs = search_df[:].id"
   ]
  },
  {
   "cell_type": "code",
   "execution_count": null,
   "metadata": {},
   "outputs": [],
   "source": [
    "search_df"
   ]
  },
  {
   "cell_type": "code",
   "execution_count": null,
   "metadata": {},
   "outputs": [],
   "source": []
  },
  {
   "cell_type": "code",
   "execution_count": null,
   "metadata": {},
   "outputs": [],
   "source": []
  }
 ],
 "metadata": {
  "kernelspec": {
   "display_name": "Python 3 (ipykernel)",
   "language": "python",
   "name": "python3"
  },
  "language_info": {
   "codemirror_mode": {
    "name": "ipython",
    "version": 3
   },
   "file_extension": ".py",
   "mimetype": "text/x-python",
   "name": "python",
   "nbconvert_exporter": "python",
   "pygments_lexer": "ipython3",
   "version": "3.7.12"
  }
 },
 "nbformat": 4,
 "nbformat_minor": 4
}
